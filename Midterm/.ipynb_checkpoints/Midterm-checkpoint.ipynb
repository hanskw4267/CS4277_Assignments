{
 "cells": [
  {
   "cell_type": "code",
   "execution_count": 7,
   "id": "serial-energy",
   "metadata": {},
   "outputs": [],
   "source": [
    "from helper import *\n",
    "import math\n",
    "import cv2\n",
    "import numpy as np\n",
    "import matplotlib.pyplot as plt\n",
    "import csv"
   ]
  },
  {
   "cell_type": "markdown",
   "id": "material-plenty",
   "metadata": {},
   "source": [
    "### Calculate line between 2 points"
   ]
  },
  {
   "cell_type": "code",
   "execution_count": null,
   "id": "quarterly-central",
   "metadata": {},
   "outputs": [],
   "source": [
    "pt1 = Point(1, 2)\n",
    "pt2 = Point(3, 4)\n",
    "line = Line_Equation(pt1, pt2)\n",
    "print(line)"
   ]
  },
  {
   "cell_type": "markdown",
   "id": "tough-richmond",
   "metadata": {},
   "source": [
    "### Calculate point intersection of 2 lines"
   ]
  },
  {
   "cell_type": "code",
   "execution_count": 5,
   "id": "vocational-causing",
   "metadata": {},
   "outputs": [
    {
     "ename": "TypeError",
     "evalue": "cross_product() takes 1 positional argument but 3 were given",
     "output_type": "error",
     "traceback": [
      "\u001b[1;31m---------------------------------------------------------------------------\u001b[0m",
      "\u001b[1;31mTypeError\u001b[0m                                 Traceback (most recent call last)",
      "\u001b[1;32m<ipython-input-5-1f2800ca0c04>\u001b[0m in \u001b[0;36m<module>\u001b[1;34m\u001b[0m\n\u001b[0;32m      5\u001b[0m \u001b[0ml1\u001b[0m \u001b[1;33m=\u001b[0m \u001b[0mLine\u001b[0m\u001b[1;33m(\u001b[0m\u001b[0ml1_start\u001b[0m\u001b[1;33m,\u001b[0m \u001b[0ml1_end\u001b[0m\u001b[1;33m)\u001b[0m\u001b[1;33m\u001b[0m\u001b[1;33m\u001b[0m\u001b[0m\n\u001b[0;32m      6\u001b[0m \u001b[0ml2\u001b[0m \u001b[1;33m=\u001b[0m \u001b[0mLine\u001b[0m\u001b[1;33m(\u001b[0m\u001b[0ml2_start\u001b[0m\u001b[1;33m,\u001b[0m \u001b[0ml2_end\u001b[0m\u001b[1;33m)\u001b[0m\u001b[1;33m\u001b[0m\u001b[1;33m\u001b[0m\u001b[0m\n\u001b[1;32m----> 7\u001b[1;33m \u001b[0mis_cross\u001b[0m \u001b[1;33m=\u001b[0m \u001b[0ml1\u001b[0m\u001b[1;33m.\u001b[0m\u001b[0mis_cross\u001b[0m\u001b[1;33m(\u001b[0m\u001b[0ml2\u001b[0m\u001b[1;33m)\u001b[0m\u001b[1;33m\u001b[0m\u001b[1;33m\u001b[0m\u001b[0m\n\u001b[0m\u001b[0;32m      8\u001b[0m \u001b[0mprint\u001b[0m\u001b[1;33m(\u001b[0m\u001b[0mis_cross\u001b[0m\u001b[1;33m)\u001b[0m\u001b[1;33m\u001b[0m\u001b[1;33m\u001b[0m\u001b[0m\n\u001b[0;32m      9\u001b[0m \u001b[0mintersect\u001b[0m \u001b[1;33m=\u001b[0m \u001b[0ml1\u001b[0m\u001b[1;33m.\u001b[0m\u001b[0mintersetion_point\u001b[0m\u001b[1;33m(\u001b[0m\u001b[0ml2\u001b[0m\u001b[1;33m)\u001b[0m\u001b[1;33m\u001b[0m\u001b[1;33m\u001b[0m\u001b[0m\n",
      "\u001b[1;32m~\\Desktop\\HANS\\AY2021 Sem 2\\CS4277\\CS4277_Labs\\Midterm\\helper.py\u001b[0m in \u001b[0;36mis_cross\u001b[1;34m(self, line2)\u001b[0m\n\u001b[0;32m    123\u001b[0m             \u001b[1;32mreturn\u001b[0m \u001b[1;32mFalse\u001b[0m\u001b[1;33m\u001b[0m\u001b[1;33m\u001b[0m\u001b[0m\n\u001b[0;32m    124\u001b[0m     \u001b[1;32mdef\u001b[0m \u001b[0mis_cross\u001b[0m\u001b[1;33m(\u001b[0m\u001b[0mself\u001b[0m\u001b[1;33m,\u001b[0m\u001b[0mline2\u001b[0m\u001b[1;33m)\u001b[0m\u001b[1;33m:\u001b[0m\u001b[1;33m\u001b[0m\u001b[1;33m\u001b[0m\u001b[0m\n\u001b[1;32m--> 125\u001b[1;33m         \u001b[1;32mif\u001b[0m \u001b[0mself\u001b[0m\u001b[1;33m.\u001b[0m\u001b[0mcross_line\u001b[0m\u001b[1;33m(\u001b[0m\u001b[0mline2\u001b[0m\u001b[1;33m)\u001b[0m \u001b[1;32mand\u001b[0m \u001b[0mline2\u001b[0m\u001b[1;33m.\u001b[0m\u001b[0mcross_line\u001b[0m\u001b[1;33m(\u001b[0m\u001b[0mself\u001b[0m\u001b[1;33m)\u001b[0m\u001b[1;33m:\u001b[0m\u001b[1;33m\u001b[0m\u001b[1;33m\u001b[0m\u001b[0m\n\u001b[0m\u001b[0;32m    126\u001b[0m             \u001b[1;32mreturn\u001b[0m \u001b[1;32mTrue\u001b[0m\u001b[1;33m\u001b[0m\u001b[1;33m\u001b[0m\u001b[0m\n\u001b[0;32m    127\u001b[0m         \u001b[1;32melse\u001b[0m\u001b[1;33m:\u001b[0m\u001b[1;33m\u001b[0m\u001b[1;33m\u001b[0m\u001b[0m\n",
      "\u001b[1;32m~\\Desktop\\HANS\\AY2021 Sem 2\\CS4277\\CS4277_Labs\\Midterm\\helper.py\u001b[0m in \u001b[0;36mcross_line\u001b[1;34m(self, line2)\u001b[0m\n\u001b[0;32m    118\u001b[0m         \u001b[0mdiff_vec\u001b[0m\u001b[1;33m=\u001b[0m\u001b[0mself\u001b[0m\u001b[1;33m.\u001b[0m\u001b[0mpoint2\u001b[0m\u001b[1;33m-\u001b[0m\u001b[0mself\u001b[0m\u001b[1;33m.\u001b[0m\u001b[0mpoint1\u001b[0m\u001b[1;33m\u001b[0m\u001b[1;33m\u001b[0m\u001b[0m\n\u001b[0;32m    119\u001b[0m \u001b[1;33m\u001b[0m\u001b[0m\n\u001b[1;32m--> 120\u001b[1;33m         \u001b[1;32mif\u001b[0m \u001b[0mself\u001b[0m\u001b[1;33m.\u001b[0m\u001b[0mcross_product\u001b[0m\u001b[1;33m(\u001b[0m\u001b[0mdiff_vec1\u001b[0m\u001b[1;33m,\u001b[0m\u001b[0mdiff_vec\u001b[0m\u001b[1;33m)\u001b[0m\u001b[1;33m[\u001b[0m\u001b[1;33m-\u001b[0m\u001b[1;36m1\u001b[0m\u001b[1;33m]\u001b[0m\u001b[1;33m*\u001b[0m\u001b[0mself\u001b[0m\u001b[1;33m.\u001b[0m\u001b[0mcross_product\u001b[0m\u001b[1;33m(\u001b[0m\u001b[0mdiff_vec2\u001b[0m\u001b[1;33m,\u001b[0m\u001b[0mdiff_vec\u001b[0m\u001b[1;33m[\u001b[0m\u001b[1;33m-\u001b[0m\u001b[1;36m1\u001b[0m\u001b[1;33m]\u001b[0m\u001b[1;33m)\u001b[0m\u001b[1;33m<=\u001b[0m\u001b[1;36m0\u001b[0m\u001b[1;33m:\u001b[0m\u001b[1;33m\u001b[0m\u001b[1;33m\u001b[0m\u001b[0m\n\u001b[0m\u001b[0;32m    121\u001b[0m             \u001b[1;32mreturn\u001b[0m \u001b[1;32mTrue\u001b[0m\u001b[1;33m\u001b[0m\u001b[1;33m\u001b[0m\u001b[0m\n\u001b[0;32m    122\u001b[0m         \u001b[1;32melse\u001b[0m\u001b[1;33m:\u001b[0m\u001b[1;33m\u001b[0m\u001b[1;33m\u001b[0m\u001b[0m\n",
      "\u001b[1;31mTypeError\u001b[0m: cross_product() takes 1 positional argument but 3 were given"
     ]
    }
   ],
   "source": [
    "l1_start = Point(1.0, 2.0)\n",
    "l1_end = Point(5.0, 6.0)\n",
    "l2_start = Point(1.0, 7.0)\n",
    "l2_end = Point(5.0, 2.0)\n",
    "l1 = Line(l1_start, l1_end)\n",
    "l2 = Line(l2_start, l2_end)\n",
    "is_cross = l1.is_cross(l2)\n",
    "print(is_cross)\n",
    "intersect = l1.intersetion_point(l2)\n",
    "print(intersect)"
   ]
  },
  {
   "cell_type": "code",
   "execution_count": 6,
   "id": "introductory-introduction",
   "metadata": {},
   "outputs": [
    {
     "name": "stdout",
     "output_type": "stream",
     "text": [
      "[-6.4  -5.55 16.58]\n"
     ]
    }
   ],
   "source": [
    "l1 = np.array([3.1, 2.4, 2.0])\n",
    "l2 = np.array([4.2, 8.6, 4.5])\n",
    "print(np.cross(l1, l2))"
   ]
  },
  {
   "cell_type": "markdown",
   "id": "improving-process",
   "metadata": {},
   "source": [
    "### Calculate homography\n",
    " * Using at least 4 points of corresponding points using **Normalized** Direct Linear Transformation"
   ]
  },
  {
   "cell_type": "code",
   "execution_count": null,
   "id": "congressional-traffic",
   "metadata": {},
   "outputs": [],
   "source": [
    "src = np.array([[1, 2], [3, 4], [5, 6], [7, 8]])\n",
    "dst = np.array([[1, 2], [3, 4], [5, 6], [7, 8]])\n",
    "h_matrix = compute_homography(src, dst)\n",
    "print(h_matrix)"
   ]
  },
  {
   "cell_type": "markdown",
   "id": "formal-march",
   "metadata": {},
   "source": [
    "### Find acute angle theta between 2 lines"
   ]
  },
  {
   "cell_type": "code",
   "execution_count": 11,
   "id": "tender-plymouth",
   "metadata": {},
   "outputs": [
    {
     "name": "stdout",
     "output_type": "stream",
     "text": [
      "Angle is 59.03624346792648\n"
     ]
    }
   ],
   "source": [
    "l1 = np.array([4, -1, 2])\n",
    "l2 = np.array([-1, -1, 3])\n",
    "c = np.array([[1, 0, 0], [0, 1, 0], [0, 0, 0]])\n",
    "num = np.matmul(np.matmul(l1, c), l2)\n",
    "den1 = math.sqrt(np.matmul(np.matmul(l1, c), l1))\n",
    "den2 = math.sqrt(np.matmul(np.matmul(l2, c), l2))\n",
    "print(f\"Angle is {180 - math.degrees(math.acos(num/den1/den2))}\")"
   ]
  },
  {
   "cell_type": "markdown",
   "id": "stunning-ratio",
   "metadata": {},
   "source": [
    "### Find conic that contains 5 pts\n",
    " - (x^2, xy, y^2, x, y, 1)c = 0 for 5 pts"
   ]
  },
  {
   "cell_type": "code",
   "execution_count": 14,
   "id": "advance-invite",
   "metadata": {},
   "outputs": [
    {
     "name": "stdout",
     "output_type": "stream",
     "text": [
      "[ 0.09802932 -0.10115792  0.01981444 -0.55688998  0.2721878   0.7717202 ]\n"
     ]
    }
   ],
   "source": [
    "constraints = np.array([[0, 0, 16, 0, -4, 1],\n",
    "                       [1, -6, 36, 1, -6, 1],\n",
    "                       [9, 6, 4, 3, 2, 1],\n",
    "                       [16, 4, 1, 4, 1, 1],\n",
    "                       [4, -2, 1, 2, -1, 1]])\n",
    "u, s, vh = np.linalg.svd(constraints)\n",
    "a, b, c, d, e, f = vh[-1, :]\n",
    "C = np.array([[a, b/2, d/2], [b/2, c, e/2], [d/2, e/2, f]])\n",
    "print(f\"Conic matrix is: {C}\")"
   ]
  }
 ],
 "metadata": {
  "kernelspec": {
   "display_name": "Python 3",
   "language": "python",
   "name": "python3"
  },
  "language_info": {
   "codemirror_mode": {
    "name": "ipython",
    "version": 3
   },
   "file_extension": ".py",
   "mimetype": "text/x-python",
   "name": "python",
   "nbconvert_exporter": "python",
   "pygments_lexer": "ipython3",
   "version": "3.8.1"
  }
 },
 "nbformat": 4,
 "nbformat_minor": 5
}
